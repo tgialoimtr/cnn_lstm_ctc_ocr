{
 "cells": [
  {
   "cell_type": "code",
   "execution_count": 1,
   "metadata": {},
   "outputs": [],
   "source": [
    "import re\n",
    "import regex\n",
    "import numpy as np\n",
    "import pandas as pd"
   ]
  },
  {
   "cell_type": "code",
   "execution_count": 2,
   "metadata": {},
   "outputs": [],
   "source": [
    "texts_dir = ''\n",
    "samples_file = \"D:\\\\uatfull\\\\prod_mar\\\\samples300.csv\"\n",
    "groupby_path = \"D:\\\\uatfull\\\\prod_jun\\\\groupby_samples300\"\n"
   ]
  },
  {
   "cell_type": "code",
   "execution_count": 68,
   "metadata": {},
   "outputs": [
    {
     "data": {
      "text/plain": [
       "1"
      ]
     },
     "execution_count": 68,
     "metadata": {},
     "output_type": "execute_result"
    }
   ],
   "source": [
    "int(round(1.49))"
   ]
  },
  {
   "cell_type": "code",
   "execution_count": 2,
   "metadata": {},
   "outputs": [
    {
     "ename": "NameError",
     "evalue": "global name 'TWord' is not defined",
     "output_type": "error",
     "traceback": [
      "\u001b[0;31m---------------------------------------------------------------------------\u001b[0m",
      "\u001b[0;31mNameError\u001b[0m                                 Traceback (most recent call last)",
      "\u001b[0;32m<ipython-input-2-9c6bf1777740>\u001b[0m in \u001b[0;36m<module>\u001b[0;34m()\u001b[0m\n\u001b[1;32m     29\u001b[0m \u001b[0;34m\u001b[0m\u001b[0m\n\u001b[1;32m     30\u001b[0m \u001b[0;32mfor\u001b[0m \u001b[0mline\u001b[0m \u001b[0;32min\u001b[0m \u001b[0mlines2\u001b[0m\u001b[0;34m:\u001b[0m\u001b[0;34m\u001b[0m\u001b[0m\n\u001b[0;32m---> 31\u001b[0;31m     \u001b[0mbreakLine\u001b[0m\u001b[0;34m(\u001b[0m\u001b[0mline\u001b[0m\u001b[0;34m)\u001b[0m\u001b[0;34m\u001b[0m\u001b[0m\n\u001b[0m",
      "\u001b[0;32m<ipython-input-2-9c6bf1777740>\u001b[0m in \u001b[0;36mbreakLine\u001b[0;34m(line)\u001b[0m\n\u001b[1;32m     24\u001b[0m         \u001b[0mstart\u001b[0m \u001b[0;34m=\u001b[0m \u001b[0mb\u001b[0m\u001b[0;34m\u001b[0m\u001b[0m\n\u001b[1;32m     25\u001b[0m     \u001b[0;32mif\u001b[0m \u001b[0mlen\u001b[0m\u001b[0;34m(\u001b[0m\u001b[0mline\u001b[0m\u001b[0;34m)\u001b[0m \u001b[0;34m>\u001b[0m \u001b[0mstart\u001b[0m \u001b[0;34m+\u001b[0m \u001b[0;36m1\u001b[0m\u001b[0;34m:\u001b[0m\u001b[0;34m\u001b[0m\u001b[0m\n\u001b[0;32m---> 26\u001b[0;31m         \u001b[0mret\u001b[0m\u001b[0;34m.\u001b[0m\u001b[0mappend\u001b[0m\u001b[0;34m(\u001b[0m\u001b[0mTWord\u001b[0m\u001b[0;34m(\u001b[0m\u001b[0;34m'RAW'\u001b[0m\u001b[0;34m,\u001b[0m \u001b[0mline\u001b[0m\u001b[0;34m[\u001b[0m\u001b[0mstart\u001b[0m\u001b[0;34m:\u001b[0m\u001b[0mlen\u001b[0m\u001b[0;34m(\u001b[0m\u001b[0mline\u001b[0m\u001b[0;34m)\u001b[0m\u001b[0;34m]\u001b[0m\u001b[0;34m,\u001b[0m \u001b[0;34m''\u001b[0m\u001b[0;34m,\u001b[0m \u001b[0;36m0\u001b[0m\u001b[0;34m)\u001b[0m\u001b[0;34m)\u001b[0m\u001b[0;34m\u001b[0m\u001b[0m\n\u001b[0m\u001b[1;32m     27\u001b[0m \u001b[0;31m#         print('RAW === %s'%(line[start:len(line)]))\u001b[0m\u001b[0;34m\u001b[0m\u001b[0;34m\u001b[0m\u001b[0m\n\u001b[1;32m     28\u001b[0m     \u001b[0;32mreturn\u001b[0m \u001b[0mret\u001b[0m\u001b[0;34m\u001b[0m\u001b[0m\n",
      "\u001b[0;31mNameError\u001b[0m: global name 'TWord' is not defined"
     ]
    }
   ],
   "source": [
    "lines2 = '''nnnn nnnnn >>>> <<< \n",
    "<DATE1 %d%m%y>aa<<<>\n",
    ">><DATE1 %d%m%y>>a <OTHER \\d{5} \\d{4}> hh\n",
    "h>>>hhh<<<hhh<TIME %H:%M:%S> <OTHER \\d{4}>\n",
    "<STORE \"FOUR LEAVES\">\n",
    "@ <MALL \"Junction 8::8\">\n",
    "'''\n",
    "lines2 = lines2.split('\\n')\n",
    "lines2 = [line.strip() for line in lines2]\n",
    "\n",
    "def breakLine(line):\n",
    "    rWord = r'(<([A-Z]+-?[0-9]*)[ ](.*?)>)'\n",
    "    rs = re.findall(rWord, line)\n",
    "    ret = []\n",
    "    start = 0\n",
    "    for all_str, kw_type, word_str in rs:\n",
    "        a = line.find(all_str, start)\n",
    "        b = a + len(all_str)\n",
    "        if a > start + 1:\n",
    "            ret.append(TWord('RAW', line[start:a], '', 0))\n",
    "#             print('RAW === %s'%(line[start:a]))\n",
    "        ret.append(TWord(kw_type, word_str, '', 0))\n",
    "#         print('%s === %s' % (kw_type, word_str))\n",
    "        start = b\n",
    "    if len(line) > start + 1:\n",
    "        ret.append(TWord('RAW', line[start:len(line)], '', 0))\n",
    "#         print('RAW === %s'%(line[start:len(line)]))\n",
    "    return ret\n",
    "\n",
    "for line in lines2:\n",
    "    breakLine(line)"
   ]
  },
  {
   "cell_type": "code",
   "execution_count": 3,
   "metadata": {},
   "outputs": [
    {
     "name": "stdout",
     "output_type": "stream",
     "text": [
      "{0: 0, 1: 0, 2: 0, 3: 0, 4: 0, 5: 0, 6: 0, 7: 0, 8: 0, 9: 0, 10: 0, 11: 0, 12: 2, 13: 2, 14: 2, 15: 2, 16: 2, 17: 2, 18: 2, 19: 2, 20: 2, 21: 2, 22: 2, 23: 2, 24: 2, 25: 2, 26: 2, 27: 2, 28: 2, 29: 2, 30: 2, 31: 2, 32: 2, 33: 2, 34: 2, 35: 2, 36: 2, 37: 2, 38: 2, 39: 2, 40: 2, 41: 2, 42: 2, 43: 2, 44: 2, 45: 2, 46: 2, 47: 2, 48: 2, 49: 2, 50: 2, 51: 2, 52: 2, 53: 2, 54: 2, -2: 0, -9: 0, -8: 0, -7: 0, -6: 0, -5: 0, -4: 0, -3: 0, -1: 0}\n"
     ]
    }
   ],
   "source": [
    "class RowColRansac(object):\n",
    "    def __init__(self):\n",
    "        self.matches = []\n",
    "\n",
    "    def add(self, params, targetparams, error):\n",
    "        if targetparams:\n",
    "            self.matches.append((params, targetparams, error))\n",
    "        self.MAX_ERROR = 1\n",
    "\n",
    "    def findMapping(self):\n",
    "        a=[]\n",
    "        for params, targetparams, error in self.matches:\n",
    "            if targetparams:\n",
    "                r,c = params\n",
    "                tr, tc = targetparams\n",
    "                a.append(tr - r)\n",
    "        mean_diff = self.findMeanDiff(a)\n",
    "        mapping = self.refineRet(mean_diff)\n",
    "        return mapping\n",
    "\n",
    "    def refineRet(self, mean_diff):\n",
    "        b = []\n",
    "        ret = {}\n",
    "        for params, targetparams, error in self.matches:\n",
    "            r,c = params\n",
    "            if targetparams:\n",
    "                tr, tc = targetparams\n",
    "                diff_mean_diff = abs(tr - r - mean_diff)\n",
    "                if diff_mean_diff < 2*self.MAX_ERROR:\n",
    "                    b.append([r, tr - r, int(diff_mean_diff*10)])\n",
    "                else:\n",
    "                    b.append([r, -1, -1])\n",
    "            else:\n",
    "                b.append([r, -1, -1])\n",
    "        b = np.array(b)\n",
    "        output_range = range(min(b[:,0])-20, max(b[:,0])+41)\n",
    "        b = b[b[:,2]>=0,:]\n",
    "        for i in output_range:\n",
    "            diffcurr_diffdiff = np.abs(b[:,0] - i) * 1000 + b[:,2]\n",
    "            idx = np.argsort(diffcurr_diffdiff)[0]\n",
    "            ret[i] = b[idx,1]\n",
    "        return ret\n",
    "    \n",
    "    def findMeanDiff(self, a):\n",
    "        a.sort()\n",
    "        max_inliers_count = 0\n",
    "        for i, lowerbound in enumerate(a):\n",
    "            inliers = []\n",
    "            for j in range(i, len(a)):\n",
    "                if a[j] <= a[i] + 2*self.MAX_ERROR:\n",
    "                    inliers.append(a[j])\n",
    "                else:\n",
    "                    break\n",
    "            if len(inliers) > max_inliers_count:\n",
    "                max_inliers_count = len(inliers)\n",
    "                mean_diff = 1.0*sum(inliers)/len(inliers)\n",
    "        return mean_diff\n",
    "    \n",
    "ransac = RowColRansac()\n",
    "ransac.add((11,12), (11,12), 2)\n",
    "ransac.add((11,12), (11,10), 0)\n",
    "ransac.add((12,0), None, 0)\n",
    "ransac.add((12,8), (14, 9), 1)\n",
    "ransac.add((13,0), None, 0)\n",
    "ransac.add((14,0), (16,0), 0)\n",
    "\n",
    "print(ransac.findMapping())"
   ]
  },
  {
   "cell_type": "code",
   "execution_count": 98,
   "metadata": {},
   "outputs": [],
   "source": [
    "rawtypes = ['RAW', 'STORE', 'MALL', 'GST', 'BIZNO', 'LOT', 'TEL']\n",
    "regextypes = ['DATE', 'TIME', 'ID', 'OTHER', 'GSTTAX', 'QTY']\n",
    "regex_shortkey = {'PRICE':r'(([1-9]\\d*|0)\\.\\d\\d)',\n",
    "                  'NUMBER':r'[1-9]\\d*',\n",
    "                  'ID':r'[ ]?\\w*?[ :\\.#]{0,4}.*?([A-Z0-9]{2,25}([-/][A-Z0-9]{1,8}([-/][0-9A-Z]{1,8})?)?)',\n",
    "                  'NAME':''}\n",
    "MONEY0 = \".*?\\$[ ]?([1-9]\\d{0,3}\\.?\\d{1,2})\"\n",
    "MONEY = \".*?(\\$|S\\$)?[ ]*([1-9]\\d{0,3}\\.\\d{1,2})\"\n",
    "ALLMONEY = \"(^|\\D)(([1-9]\\d*|0)\\.\\d\\d)\"\n",
    "GSTMONEY = \"(^|\\D)(\\d\\.([0-8]9|\\d[1-8]|[1234678]0))\"\n",
    "GSTMONEY0 = \"(^|\\D)(1\\d\\.([0-8]9|\\d[1-8]|[1234678]0))\"\n",
    "SVCMONEY = \"(^|\\D)(1?\\d\\.\\d\\d)\"\n",
    "ID = r'[ ]?\\w*?[ :\\.#]{0,4}.*?([A-Z0-9]{2,25}([-/][A-Z0-9]{1,8}([-/][0-9A-Z]{1,8})?)?)'\n",
    "SPECIALID1 = r'(\\s|^|\\D)(([012][0-9]|3[01])([012][0-9]|3[01])1[89] [0-9]{5} [0-9]{4}) [0-9]{2}:[0-9]{2}'\n",
    "SPECIALID2 = r'(\\s|^|\\D)([012]?\\d|3[01])/([012]?\\d|3[01])/201[89][ ]*[012]\\d:[0-5]\\d[ ]*([:\\w]{3,7}[ ])?[ ]*([A-Z][0-9]{6})'\n",
    "SPECIALID3 = r'(\\s|^|\\W)T(r:|#)(\\d{2,12})'\n",
    "# '(\\s|^|\\D)(...)(\\s|$|\\D)'\n",
    "# %b SEP or sep ?\n"
   ]
  },
  {
   "cell_type": "code",
   "execution_count": 5,
   "metadata": {},
   "outputs": [],
   "source": [
    "lines = '''\n",
    "<STORE \"FOUR LEAVES\">\n",
    "@ <MALL \"Junction 8::8\">\n",
    "GST Reg No: <GST \"M2-0040287-1\">\n",
    "<DATE %d%m%y> <OTHER \\d{5} \\d{4}> <TIME %H:%M:%S> <OTHER \\d{4}>\n",
    "^sameline <ID \\d{6} \\d{5} \\d{4}> <TIME %H:%M:%S> <OTHER \\d{4}>\n",
    "Rcpt#:<ID ID> \\n <DATE1 %d/%m/%Y><TIME1 %H:%M>\n",
    "'''\n",
    "target_lines = '''\n",
    "################\n",
    "FOUR LEAFES 123\n",
    "B\"u Junction 8\n",
    "f\\dsGST No: M2-0040287-1\n",
    "chau len ba\n",
    "chau QRTY 123\n",
    "TOTAL 24.23$\n",
    "CHANGE $45.00\n",
    "111119 12345 1234 22:22:22 1234\n",
    "Rcpt#:A123 11/11/2011 11:11\n",
    "@BUGIS JUNCTION\n",
    "111111 12345 22:23\n",
    "'''\n",
    "target_lines = target_lines.split('\\n')\n",
    "target_lines = [line.strip() for line in target_lines if len(line) > 0]\n",
    "\n",
    "rawtypes = ['RAW', 'STORE', 'MALL', 'GST', 'BIZNO', 'LOT', 'TEL', 'ZIPCODE']\n",
    "regextypes = ['DATE', 'TIME', 'ID', 'OTHER', 'GSTTAX', 'QTY', 'TOTAL', 'SUBTOTAL', 'CHANGE', 'SVC']\n",
    "regex_shortkey = {'PRICE':r'(([1-9]\\d*|0)\\.\\d\\d)',\n",
    "                  'NUMBER':r'[1-9]\\d*',\n",
    "                  'ID':r'[ ]?\\w*?[ :\\.#]{0,4}.*?([A-Z0-9]{2,25}([-/][A-Z0-9]{1,8}([-/][0-9A-Z]{1,8})?)?)',\n",
    "                  'NAME':''}\n",
    "\n",
    "def timestr2reg(timestr):\n",
    "    ret = re.escape(timestr)\n",
    "    ret = ret.replace('%d', '([0-2][0-9]|3[01])')\n",
    "    ret = ret.replace('%m', '(0[1-9]|1[012])')\n",
    "    ret = ret.replace('%y', '(18|19|20)')\n",
    "    ret = ret.replace('%Y', '(20(18|19|20))')\n",
    "    ret = ret.replace('%H', '([01][0-9]|2[0-3]|[0-9])')\n",
    "    ret = ret.replace('%M', '([0-5][0-9])')\n",
    "    ret = ret.replace('%S', '([0-5][0-9])')\n",
    "    return ret\n",
    "\n",
    "def type2regex(kw_type, raw_string):\n",
    "    if kw_type in rawtypes and len(raw_string) > 2 and raw_string[0] == '\"' and raw_string[-1] == '\"':\n",
    "        return re.escape(raw_string[1:-1])\n",
    "    elif raw_string in regex_shortkey.keys():\n",
    "        return regex_shortkey[raw_string]\n",
    "    elif kw_type in ['DATE', 'TIME']:\n",
    "        return timestr2reg(raw_string)\n",
    "    elif kw_type in regextypes:\n",
    "        return raw_string\n",
    "    else:\n",
    "        return re.escape(raw_string)\n",
    "\n",
    "class TWord(object):\n",
    "    def __init__(self, kw_type, raw_string, row=None, explen=None):\n",
    "        self.kw_type = kw_type\n",
    "        self.regexp = type2regex(kw_type, raw_string)\n",
    "        if '::' in self.regexp:\n",
    "            a, b = self.regexp.split('::', 1)\n",
    "            self.regexp = a\n",
    "            self.exact = b\n",
    "        else:\n",
    "            self.exact = None\n",
    "        if explen is None:\n",
    "            self.explen = len(self.regexp)\n",
    "        else:\n",
    "            self.explen = explen\n",
    "        self.row = row\n",
    "        self.maxAllowedError = int(self.explen/5) #TODO: change function shape in future\n",
    "        \n",
    "    def check(self, lines):\n",
    "        ret = []\n",
    "        for row, line in enumerate(lines):\n",
    "            for mae in range(0, self.maxAllowedError + 1):\n",
    "                searchString = '(' + self.regexp + '){e<=' + str(mae) + '}'\n",
    "                m = regex.search(searchString, line)\n",
    "#                 print('search %s in %s with %d errors' %(searchString, line, mae))\n",
    "                if m:\n",
    "                    extracted = m.group(0)\n",
    "                    realError = mae\n",
    "                    if self.exact is not None and self.exact in extracted:\n",
    "                        ret.append((row,None,realError, m))\n",
    "                    break\n",
    "        \n",
    "        return ret\n",
    "    \n",
    "# TODO: match RAW+DATETIME. Remember matched string.\n",
    "# add all match options to RANSAC.=> done.\n",
    "\n",
    "def tpassage_check(twords, lines):\n",
    "    ransac = RowColRansac()\n",
    "    for tword in twords:\n",
    "        if tword.kw_type in rawtypes:\n",
    "            ret = tword.check(lines)\n",
    "            for x,y,e,_ in ret:\n",
    "                ransac.add((tword.row, None), (x,y), e)\n",
    "    mapping = ransac.findMapping()\n",
    "    print(mapping)\n",
    "    if len(mapping):\n",
    "        for tword in twords:\n",
    "            if tword.kw_type in regextypes:\n",
    "                expected_row = tword.row + mapping[tword.row]\n",
    "                \n",
    "                searchString = '(' + self.regexp + ')'\n",
    "                m = regex.search(searchString, line)\n",
    "                if m:\n",
    "                    extracted = m.group(0)\n",
    "                    \n",
    "                ret = tword.check(lines[expected_row-1:expected_row+2])\n",
    "                for x,y,e,m in ret:\n",
    "                    print('find %s in %s' % (extracted, lines[x+expected_row-1]))\n",
    "                    extracted = m.group(0)\n",
    "    else:\n",
    "#         confident_score = matched/all\n",
    "#         return [(line_start, line_end), confident_score, {key_value_extracted}],...\n",
    "        print('Not found')\n",
    "\n",
    "tword1 = TWord(kw_type='STORE', raw_string='\"FOUR LEAVES\"', row=0)\n",
    "tword2 = TWord(kw_type='RAW', raw_string='\"@ \"', row=1)\n",
    "tword3 = TWord(kw_type='MALL', raw_string='\"Junction 8::8\"', row=1)\n",
    "tword4 = TWord(kw_type='RAW', raw_string='\"GST Reg No: \"', row=2)\n",
    "tword5 = TWord(kw_type='GST', raw_string='\"M2-0040287-1\"', row=2)\n",
    "twords = [tword1, tword2, tword3, tword4, tword5]\n",
    "\n",
    "# tword0 = TWord(kw_type='DATE', raw_string=\"%d%m%y\", row=0, explen=6)\n",
    "# tword1 = TWord(kw_type='DATE', raw_string=\"%d/%m/%Y\", row=0, explen=9)\n",
    "# tword2 = TWord(kw_type='TIME', raw_string=\"%H:%M:%S\", row=1, explen=9)\n",
    "# tword3 = TWord(kw_type='TIME', raw_string=\"%H:%M\", row=1, explen=5)\n",
    "\n",
    "\n",
    "# tpassage_check(twords, target_lines)\n",
    "# tword3.check(target_lines)\n",
    "# tword1.regexp"
   ]
  },
  {
   "cell_type": "code",
   "execution_count": 17,
   "metadata": {},
   "outputs": [
    {
     "data": {
      "text/plain": [
       "1"
      ]
     },
     "execution_count": 17,
     "metadata": {},
     "output_type": "execute_result"
    }
   ],
   "source": [
    "int(5/4)"
   ]
  },
  {
   "cell_type": "code",
   "execution_count": 53,
   "metadata": {},
   "outputs": [
    {
     "name": "stdout",
     "output_type": "stream",
     "text": [
      "<regex.Match object; span=(0, 11), match='FOUR LEAFES', fuzzy_counts=(1, 0, 0)>\n"
     ]
    }
   ],
   "source": [
    "cr = regex.compile(\"(FOUR LEAVES){e<=1}\")\n",
    "m = cr.search(\"FOUR LEAFES 123\")\n",
    "print(m)"
   ]
  },
  {
   "cell_type": "code",
   "execution_count": 14,
   "metadata": {},
   "outputs": [
    {
     "ename": "TypeError",
     "evalue": "__init__() takes exactly 5 arguments (3 given)",
     "output_type": "error",
     "traceback": [
      "\u001b[0;31m---------------------------------------------------------------------------\u001b[0m",
      "\u001b[0;31mTypeError\u001b[0m                                 Traceback (most recent call last)",
      "\u001b[0;32m<ipython-input-14-465e7ca7a2de>\u001b[0m in \u001b[0;36m<module>\u001b[0;34m()\u001b[0m\n\u001b[1;32m     13\u001b[0m     \u001b[0ma\u001b[0m \u001b[0;34m=\u001b[0m \u001b[0mline\u001b[0m\u001b[0;34m.\u001b[0m\u001b[0mfind\u001b[0m\u001b[0;34m(\u001b[0m\u001b[0mall_str\u001b[0m\u001b[0;34m,\u001b[0m \u001b[0mstart\u001b[0m\u001b[0;34m)\u001b[0m\u001b[0;34m\u001b[0m\u001b[0m\n\u001b[1;32m     14\u001b[0m     \u001b[0mb\u001b[0m \u001b[0;34m=\u001b[0m \u001b[0ma\u001b[0m \u001b[0;34m+\u001b[0m \u001b[0mlen\u001b[0m\u001b[0;34m(\u001b[0m\u001b[0mall_str\u001b[0m\u001b[0;34m)\u001b[0m\u001b[0;34m\u001b[0m\u001b[0m\n\u001b[0;32m---> 15\u001b[0;31m     \u001b[0mret\u001b[0m\u001b[0;34m.\u001b[0m\u001b[0mappend\u001b[0m\u001b[0;34m(\u001b[0m\u001b[0mTWord\u001b[0m\u001b[0;34m(\u001b[0m\u001b[0;34m'RAW'\u001b[0m\u001b[0;34m,\u001b[0m \u001b[0mre\u001b[0m\u001b[0;34m.\u001b[0m\u001b[0mescape\u001b[0m\u001b[0;34m(\u001b[0m\u001b[0mline\u001b[0m\u001b[0;34m[\u001b[0m\u001b[0mstart\u001b[0m\u001b[0;34m:\u001b[0m\u001b[0ma\u001b[0m\u001b[0;34m]\u001b[0m\u001b[0;34m)\u001b[0m\u001b[0;34m)\u001b[0m\u001b[0;34m)\u001b[0m\u001b[0;34m\u001b[0m\u001b[0m\n\u001b[0m\u001b[1;32m     16\u001b[0m \u001b[0;31m#     print('RAW === %s'%(line[start:a]))\u001b[0m\u001b[0;34m\u001b[0m\u001b[0;34m\u001b[0m\u001b[0m\n\u001b[1;32m     17\u001b[0m     \u001b[0mret\u001b[0m\u001b[0;34m.\u001b[0m\u001b[0mappend\u001b[0m\u001b[0;34m(\u001b[0m\u001b[0mTWord\u001b[0m\u001b[0;34m(\u001b[0m\u001b[0mkw_type\u001b[0m\u001b[0;34m,\u001b[0m \u001b[0mword_str\u001b[0m\u001b[0;34m)\u001b[0m\u001b[0;34m)\u001b[0m\u001b[0;34m\u001b[0m\u001b[0m\n",
      "\u001b[0;31mTypeError\u001b[0m: __init__() takes exactly 5 arguments (3 given)"
     ]
    }
   ],
   "source": [
    "line = '''nnnn nnnnn >>>> <<< \n",
    "<DATE1 %d%m%y>aa<<<>\n",
    ">><DATE1 %d%m%y>>a <OTHER \\d{5} \\d{4}> hh\n",
    "h>>>hhh<<<hhh<TIME %H:%M:%S> <OTHER \\d{4}>\n",
    "<STORE \"FOUR LEAVES\">\n",
    "@ <MALL \"Junction 8::8\">\n",
    "'''\n",
    "rWord = r'(<([A-Z]+-?[0-9]*)[ ](.*?)>)'\n",
    "rs = re.findall(rWord, line)\n",
    "ret = []\n",
    "start = 0\n",
    "for all_str, kw_type, word_str in rs:\n",
    "    a = line.find(all_str, start)\n",
    "    b = a + len(all_str)\n",
    "    ret.append(TWord('RAW', re.escape(line[start:a])))\n",
    "#     print('RAW === %s'%(line[start:a]))\n",
    "    ret.append(TWord(kw_type, word_str))\n",
    "#     print('%s === %s' % (kw_type, word_str))\n",
    "    start = b\n",
    "\n",
    "    breakLine\n",
    "\n",
    "    "
   ]
  },
  {
   "cell_type": "code",
   "execution_count": 6,
   "metadata": {},
   "outputs": [],
   "source": [
    "class TPassage(object):\n",
    "    def __init__(self, lines):\n",
    "        self.twords = []\n",
    "        for i, line in enumerate(lines):\n",
    "            twords = breakLine(line)\n",
    "            for tword in twords:\n",
    "                tword.row = i\n",
    "            self.twords += twords\n",
    "\n",
    "    def _parseString(self, desc_string):\n",
    "        pass\n",
    "\n",
    "    def tpassage_check(self, lines):\n",
    "        ransac = RowColRansac()\n",
    "        for tword in self.twords:\n",
    "            ret = tword.check(lines)\n",
    "            for x,y,e,_ in ret:\n",
    "    #             if \n",
    "                ransac.add((tword.row, None), (x,y), e)\n",
    "        mapping = ransac.findMapping()\n",
    "        print(mapping)\n",
    "        if mapping:\n",
    "            for tword in self.twords:\n",
    "                if tword.kw_type in []:\n",
    "                    expected_row = tword.row + mapping[tword.row]\n",
    "                    ret = tword.check(lines[expected_row-1:expected_row+2])\n",
    "                    if len(ret) > 0:\n",
    "                        #sort by e\n",
    "                        m = ret[0][3]\n",
    "        else:\n",
    "            print('Not found')\n",
    "        \n",
    "\n",
    "# class TLine(object):\n",
    "#     def __init__(self, line_string):\n",
    "#         pass\n",
    "#     def check(self, neighbours, target_line_index=None):\n",
    "#         for target_line in neigh\n",
    "#         return most_similar_index\n",
    "    \n",
    "lines = '''\n",
    "abc\n",
    "<STORE \"FOUR LEAVES\">\n",
    ")_+_+_****\n",
    "@ <MALL \"Junction 8::8\">\n",
    "GST Reg No: <GST \"M2-0040287-1\">\n",
    "<DATE %d%m%y> <OTHER \\d{5} \\d{4}> <TIME %H:%M:%S> <OTHER \\d{4}>\n",
    "^sameline <ID \\d{6} \\d{5} \\d{4}> <TIME %H:%M:%S> <OTHER \\d{4}>\n",
    "Rcpt#:<ID ID> \\n <DATE1 %d/%m/%Y><TIME1 %H:%M>\n",
    "'''\n",
    "target_lines = '''\n",
    "FOUR LEAVES 123\n",
    "Bu Junction 8\n",
    "111111 12345 1234 22:22:22 1234\n",
    "Rcpt#:A123 11/11/11 11:11\n",
    "'''\n",
    "t = TPassage(lines.split('\\n'))\n"
   ]
  },
  {
   "cell_type": "code",
   "execution_count": 7,
   "metadata": {},
   "outputs": [
    {
     "name": "stdout",
     "output_type": "stream",
     "text": [
      "B\"u Junction 8\n",
      "f\\dsGST No: M2-0040287-1\n",
      "B\"u\\ Junction\\ 8\n",
      "f\\\\dsGST\\ No:\\ M2\\-0040287\\-1\n"
     ]
    }
   ],
   "source": [
    "lines = target_lines.split('\\n')\n",
    "print(lines[3])\n",
    "print(lines[4])\n",
    "print(re.escape(lines[3]))\n",
    "print(re.escape(lines[4]))"
   ]
  },
  {
   "cell_type": "code",
   "execution_count": 38,
   "metadata": {},
   "outputs": [
    {
     "name": "stdout",
     "output_type": "stream",
     "text": [
      "['__class__', '__copy__', '__deepcopy__', '__delattr__', '__doc__', '__format__', '__getattribute__', '__getitem__', '__hash__', '__init__', '__len__', '__new__', '__reduce__', '__reduce_ex__', '__repr__', '__setattr__', '__sizeof__', '__str__', '__subclasshook__', 'captures', 'capturesdict', 'detach_string', 'end', 'endpos', 'ends', 'expand', 'expandf', 'fuzzy_changes', 'fuzzy_counts', 'group', 'groupdict', 'groups', 'lastgroup', 'lastindex', 'partial', 'pos', 're', 'regs', 'span', 'spans', 'start', 'starts', 'string']\n",
      "([], [], [])\n",
      "(0, 0, 0)\n",
      "111119\n"
     ]
    }
   ],
   "source": [
    "r = \"(([0-2][0-9]|3[01])(0[1-9]|1[012])(18|19|20))\"\n",
    "maxAllowedError = 0\n",
    "cr = regex.compile(r + '{e<=' + str(maxAllowedError) + '}')\n",
    "m = cr.search(\"ID: 111119 12345 1234 22:22:22 12341234\")\n",
    "print(dir(m))\n",
    "print(m.fuzzy_changes)\n",
    "print(m.fuzzy_counts)\n",
    "print(m.group(0))"
   ]
  },
  {
   "cell_type": "code",
   "execution_count": 7,
   "metadata": {},
   "outputs": [
    {
     "name": "stdout",
     "output_type": "stream",
     "text": [
      "['__class__', '__copy__', '__deepcopy__', '__delattr__', '__dir__', '__doc__', '__eq__', '__format__', '__ge__', '__getattribute__', '__getitem__', '__gt__', '__hash__', '__init__', '__init_subclass__', '__le__', '__lt__', '__ne__', '__new__', '__reduce__', '__reduce_ex__', '__repr__', '__setattr__', '__sizeof__', '__str__', '__subclasshook__', 'end', 'endpos', 'expand', 'group', 'groupdict', 'groups', 'lastgroup', 'lastindex', 'pos', 're', 'regs', 'span', 'start', 'string']\n"
     ]
    }
   ],
   "source": [
    "r = \"(([0-2][0-9]|3[01])(0[1-9]|1[012])(18|19|20))\"\n",
    "m = re.search(r, \"111119 12345 1234 22:22:22 1234\")\n",
    "print(dir(m))"
   ]
  },
  {
   "cell_type": "code",
   "execution_count": 17,
   "metadata": {},
   "outputs": [
    {
     "name": "stdout",
     "output_type": "stream",
     "text": [
      "('DATE', '')\n",
      "DATE\n",
      "DATE\n",
      "\n"
     ]
    }
   ],
   "source": [
    "rWord = r'([A-Z]+)-?([0-9]*)'\n",
    "rs = re.match(rWord, 'DATE')\n",
    "print(rs.groups())\n",
    "print(rs.group(0))\n",
    "print(rs.group(1))\n",
    "print(rs.group(2))"
   ]
  },
  {
   "cell_type": "code",
   "execution_count": 9,
   "metadata": {},
   "outputs": [],
   "source": [
    "def readInstruction(line):\n",
    "    if len(line) == 0:\n",
    "        return 'null', None\n",
    "    elif line[0] == '^':\n",
    "        words = line.split(' ')\n",
    "        if len(words[0]) < 2:\n",
    "            return 'line', line\n",
    "        else:\n",
    "            inst = words[0][1:]\n",
    "            if inst == 'code' or (len(inst) > 0 and inst[0] == '^'):\n",
    "                return 'code', words[1].strip()\n",
    "            else:\n",
    "                return inst, ' '.join(words[1:])\n",
    "    elif line == '...':\n",
    "        return 'break', None\n",
    "    else:\n",
    "        return 'line', line\n",
    "    \n",
    "def readDatabase(db_file):\n",
    "    allines = open(db_file).readlines()\n",
    "    inst, line = readInstruction(allines[0].strip())\n",
    "    assert inst == 'code'\n",
    "    newcode = line\n",
    "    lines = []\n",
    "    tpassages = []\n",
    "    templates = []\n",
    "    for line in allines[1:]:\n",
    "        a = readInstruction(line.strip())\n",
    "#         print(a)\n",
    "        inst, line = a\n",
    "        if inst == 'code':\n",
    "            tpassages.append(TPassage(lines))\n",
    "            templates.append(Template(newcode, tpassages))\n",
    "            newcode = line\n",
    "            tpassages = []\n",
    "            lines = []\n",
    "        elif inst == 'line':\n",
    "            lines.append(line)\n",
    "        elif inst == 'break':\n",
    "            tpassages.append(TPassage(lines))\n",
    "            lines = []\n",
    "    tpassages.append(TPassage(lines))\n",
    "    templates.append(Template(newcode, tpassages))\n",
    "    return templates"
   ]
  },
  {
   "cell_type": "code",
   "execution_count": 7,
   "metadata": {},
   "outputs": [],
   "source": [
    "#Rule: Match 1 and only 1\n",
    "class Template(object):\n",
    "    def __init__(self, code, tpassages):\n",
    "        self.tpassages = tpassages\n",
    "        self.code = code\n",
    "\n",
    "    def template_check(self, lines):\n",
    "        rets = []\n",
    "        for tp in self.tpassages:\n",
    "            ret = tp.tpassage_check(lines)\n",
    "        # combine and confirm \n",
    "        return {} # Raw key-value result\n",
    "    \n",
    "    @staticmethod\n",
    "    def extract_fields(raw_dict, lines):\n",
    "        # build ExtractedData\n",
    "        # DATE (1),2, ..., 10h rule.\n",
    "        # TOTAL, GSTTAX to select ?, ...\n",
    "#         data = ExtractedData()\n",
    "        return None\n",
    "        "
   ]
  },
  {
   "cell_type": "code",
   "execution_count": 8,
   "metadata": {},
   "outputs": [
    {
     "ename": "NameError",
     "evalue": "name 'readDatabase' is not defined",
     "output_type": "error",
     "traceback": [
      "\u001b[0;31m---------------------------------------------------------------------------\u001b[0m",
      "\u001b[0;31mNameError\u001b[0m                                 Traceback (most recent call last)",
      "\u001b[0;32m<ipython-input-8-c96d0b10496f>\u001b[0m in \u001b[0;36m<module>\u001b[0;34m()\u001b[0m\n\u001b[1;32m      1\u001b[0m \u001b[0;31m# templates = readDatabase(\"D:\\\\uatfull\\\\prod_jun\\\\process_texts\\\\database.txt\")\u001b[0m\u001b[0;34m\u001b[0m\u001b[0;34m\u001b[0m\u001b[0m\n\u001b[0;32m----> 2\u001b[0;31m \u001b[0mtemplates\u001b[0m \u001b[0;34m=\u001b[0m \u001b[0mreadDatabase\u001b[0m\u001b[0;34m(\u001b[0m\u001b[0;34m'/home/loitg/workspace/ocrversion2/temp/database.txt'\u001b[0m\u001b[0;34m)\u001b[0m\u001b[0;34m\u001b[0m\u001b[0m\n\u001b[0m",
      "\u001b[0;31mNameError\u001b[0m: name 'readDatabase' is not defined"
     ]
    }
   ],
   "source": [
    "# templates = readDatabase(\"D:\\\\uatfull\\\\prod_jun\\\\process_texts\\\\database.txt\")\n",
    "templates = readDatabase('/home/loitg/workspace/ocrversion2/temp/database.txt')"
   ]
  },
  {
   "cell_type": "code",
   "execution_count": 20,
   "metadata": {},
   "outputs": [
    {
     "name": "stdout",
     "output_type": "stream",
     "text": [
      "['BirWenstoAA/ Starg6o Bugis', '#02-11A Bugis Juntion,', '200 Viotoria Street,', 'Singapore 188021', 'Tel : 6837 0801', 'GST Regn No: 200511297K', 'Slip: 00000P0040000060605', 'Staff: Wenny Leong Trans: 60850', 'Date: 02/02/19 07:23:39 PM', 'DesAription Amount', 'Item No.: DH3900', 'SOLID SHMOO T PC 45.00 B', 'COL0R: ZZZZ, SiE: xs', 'e *r GeQe 1', '-4.50', 'Line DisAount', 'SP10', 'Total SGD 40.50', 'Visa- CitibanA T -40.50', 'Visa Card No.: ************76', 'a Card No. : ***********#7668', 'Total Savings: 4.50', '2.65', 'GST B 7A 40.50', 'ThanA You for Your PurAhase', 'Goods Sold are not refundable. Any', 'ProduAt exAhange must be done', 'Within 7 Ways from the Wate', 'burAhase. ExAhange Can Only be made', 'OnAe and exAhanged items must be in', 'Ori9inal 9ood Condition and PriCe tags', 'intaAt.', 'StriAtly no AxAhange/refund Tor', 'Sale items.', 'U*ti*li8l', 'DOOOOP00400000606N#10.01810011']\n"
     ]
    }
   ],
   "source": [
    "import pandas as pd\n",
    "from os import path\n",
    "import re\n",
    "\n",
    "\n",
    "samples_file = '/home/loitg/workspace/ocrversion2/temp/samples300.csv'\n",
    "texts_dir = '/home/loitg/workspace/ocrversion2/temp/texts_samples300/'\n",
    "\n",
    "gt_data = pd.read_csv(samples_file)\n",
    "\n",
    "def prepocessLine(line):   \n",
    "    return re.sub('\\s+', ' ', line).strip()\n",
    "\n",
    "for i, row in gt_data.iterrows():\n",
    "    fn = texts_dir + row['ImageName'] + '.jpg.txt'\n",
    "    if not path.exists(fn): continue\n",
    "    lines = open(fn).readlines()\n",
    "    lines = [prepocessLine(line) for line in lines]\n",
    "    for template in self.templates:\n",
    "        raw_dict = template.tpassage_check(lines)\n",
    "        data = template.extract_fields(raw_dict)\n",
    "    \n",
    "    #compare gt_data vs data\n",
    "    gt_data[]\n"
   ]
  },
  {
   "cell_type": "code",
   "execution_count": 6,
   "metadata": {},
   "outputs": [
    {
     "data": {
      "text/plain": [
       "'650000000492203.35253ee3-fd07-4219-a934-0b0a36e981de.636847464098793704'"
      ]
     },
     "execution_count": 6,
     "metadata": {},
     "output_type": "execute_result"
    }
   ],
   "source": [
    "gt_data.iloc[0]['ImageName']\n",
    "# from os import path\n"
   ]
  },
  {
   "cell_type": "code",
   "execution_count": 7,
   "metadata": {},
   "outputs": [
    {
     "data": {
      "text/plain": [
       "False"
      ]
     },
     "execution_count": 7,
     "metadata": {},
     "output_type": "execute_result"
    }
   ],
   "source": [
    "from os import path\n",
    "path.exists(texts_dir + '650000000492203.35253ee3-fd07-4219-a934-0b0a36e981de.636847464098793704' + '.txt')"
   ]
  },
  {
   "cell_type": "code",
   "execution_count": 12,
   "metadata": {},
   "outputs": [],
   "source": [
    "fn = (texts_dir + '650000000492203.35253ee3-fd07-4219-a934-0b0a36e981de.636847464098793704' + '.jpg.txt')"
   ]
  },
  {
   "cell_type": "code",
   "execution_count": 13,
   "metadata": {},
   "outputs": [],
   "source": [
    "lines = open(fn).readlines()"
   ]
  },
  {
   "cell_type": "code",
   "execution_count": 16,
   "metadata": {},
   "outputs": [
    {
     "data": {
      "text/plain": [
       "[' BirWenstoAA/ Starg6o Bugis \\n',\n",
       " '  #02-11A Bugis Juntion, \\n',\n",
       " '  200 Viotoria Street, \\n',\n",
       " '  Singapore 188021  \\n',\n",
       " '  Tel : 6837 0801  \\n',\n",
       " '  GST Regn No: 200511297K  \\n',\n",
       " '  Slip:  00000P0040000060605  \\n',\n",
       " '  Staff: Wenny Leong     Trans:      60850  \\n',\n",
       " '  Date:  02/02/19 07:23:39 PM  \\n',\n",
       " '  DesAription                   Amount  \\n',\n",
       " '  Item No.:   DH3900  \\n',\n",
       " '  SOLID SHMOO T PC               45.00  B  \\n',\n",
       " '  COL0R: ZZZZ, SiE: xs  \\n',\n",
       " 'e *r GeQe 1\\n',\n",
       " ' -4.50  \\n',\n",
       " '  Line DisAount  \\n',\n",
       " '  SP10  \\n',\n",
       " '  Total SGD                     40.50  \\n',\n",
       " '  Visa- CitibanA T              -40.50  \\n',\n",
       " ' Visa Card No.: ************76\\n',\n",
       " 'a Card No. :  ***********#7668  \\n',\n",
       " '  Total Savings:                 4.50  \\n',\n",
       " '  2.65  \\n',\n",
       " '  GST  B        7A      40.50  \\n',\n",
       " '  ThanA You for Your PurAhase  \\n',\n",
       " '  Goods Sold are not refundable. Any  \\n',\n",
       " '  ProduAt exAhange must be done  \\n',\n",
       " '  Within 7 Ways from the Wate \\n',\n",
       " '  burAhase.  ExAhange Can Only be made \\n',\n",
       " '  OnAe and exAhanged items must be in \\n',\n",
       " '  Ori9inal 9ood Condition and PriCe tags \\n',\n",
       " '  intaAt. \\n',\n",
       " '  StriAtly no AxAhange/refund Tor  \\n',\n",
       " '  Sale items. \\n',\n",
       " 'U*ti*li8l\\n',\n",
       " '      DOOOOP00400000606N#10.01810011      \\n']"
      ]
     },
     "execution_count": 16,
     "metadata": {},
     "output_type": "execute_result"
    }
   ],
   "source": [
    "lines"
   ]
  },
  {
   "cell_type": "code",
   "execution_count": null,
   "metadata": {},
   "outputs": [],
   "source": []
  }
 ],
 "metadata": {
  "kernelspec": {
   "display_name": "Python 2",
   "language": "python",
   "name": "python2"
  },
  "language_info": {
   "codemirror_mode": {
    "name": "ipython",
    "version": 2
   },
   "file_extension": ".py",
   "mimetype": "text/x-python",
   "name": "python",
   "nbconvert_exporter": "python",
   "pygments_lexer": "ipython2",
   "version": "2.7.14"
  }
 },
 "nbformat": 4,
 "nbformat_minor": 2
}
